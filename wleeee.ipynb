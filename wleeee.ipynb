{
  "nbformat": 4,
  "nbformat_minor": 0,
  "metadata": {
    "colab": {
      "provenance": [],
      "authorship_tag": "ABX9TyOVjaz7v0rKUfbR24lx3UDf",
      "include_colab_link": true
    },
    "kernelspec": {
      "name": "python3",
      "display_name": "Python 3"
    },
    "language_info": {
      "name": "python"
    }
  },
  "cells": [
    {
      "cell_type": "markdown",
      "metadata": {
        "id": "view-in-github",
        "colab_type": "text"
      },
      "source": [
        "<a href=\"https://colab.research.google.com/github/firaahda/Latihan1/blob/firaahda-patch-1/wleeee.ipynb\" target=\"_parent\"><img src=\"https://colab.research.google.com/assets/colab-badge.svg\" alt=\"Open In Colab\"/></a>"
      ]
    },
    {
      "cell_type": "code",
      "execution_count": 1,
      "metadata": {
        "id": "SQKeg4HWm3mH",
        "outputId": "25817367-5b7c-435b-e70e-97c07212e6f5",
        "colab": {
          "base_uri": "https://localhost:8080/"
        }
      },
      "outputs": [
        {
          "output_type": "stream",
          "name": "stdout",
          "text": [
            "Mean Squared Error: 0.4513233328610141\n",
            "R-squared: 0.9999197647408247\n",
            "Intercept: 50.313111545988306\n",
            "Coefficient: 5.009784735812132\n",
            "Predicted income for 60 advertising expenditure: 350.9001956947162\n"
          ]
        },
        {
          "output_type": "stream",
          "name": "stderr",
          "text": [
            "/usr/local/lib/python3.10/dist-packages/sklearn/base.py:493: UserWarning: X does not have valid feature names, but LinearRegression was fitted with feature names\n",
            "  warnings.warn(\n"
          ]
        }
      ],
      "source": [
        "# prompt: linear regression of supermarket income\n",
        "\n",
        "import pandas as pd\n",
        "import numpy as np\n",
        "from sklearn.model_selection import train_test_split\n",
        "from sklearn.linear_model import LinearRegression\n",
        "from sklearn.metrics import mean_squared_error, r2_score\n",
        "\n",
        "# Sample supermarket data (replace with your actual data)\n",
        "data = {\n",
        "    'advertising_expenditure': [10, 15, 20, 25, 30, 35, 40, 45, 50, 55],\n",
        "    'income': [100, 120, 150, 180, 200, 230, 250, 280, 300, 320]\n",
        "}\n",
        "df = pd.DataFrame(data)\n",
        "\n",
        "\n",
        "# Define features (X) and target (y)\n",
        "X = df[['advertising_expenditure']]\n",
        "y = df['income']\n",
        "\n",
        "# Split data into training and testing sets\n",
        "X_train, X_test, y_train, y_test = train_test_split(X, y, test_size=0.2, random_state=0)\n",
        "\n",
        "# Initialize and train the linear regression model\n",
        "model = LinearRegression()\n",
        "model.fit(X_train, y_train)\n",
        "\n",
        "# Make predictions on the test set\n",
        "y_pred = model.predict(X_test)\n",
        "\n",
        "# Evaluate the model\n",
        "mse = mean_squared_error(y_test, y_pred)\n",
        "r2 = r2_score(y_test, y_pred)\n",
        "\n",
        "print(f\"Mean Squared Error: {mse}\")\n",
        "print(f\"R-squared: {r2}\")\n",
        "\n",
        "# Print the model coefficients\n",
        "print(f\"Intercept: {model.intercept_}\")\n",
        "print(f\"Coefficient: {model.coef_[0]}\")\n",
        "\n",
        "\n",
        "# Example prediction for new advertising expenditure\n",
        "new_expenditure = np.array([[60]])  # Replace with desired value\n",
        "predicted_income = model.predict(new_expenditure)\n",
        "print(f\"Predicted income for {new_expenditure[0][0]} advertising expenditure: {predicted_income[0]}\")"
      ]
    }
  ]
}