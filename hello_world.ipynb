{
  "nbformat": 4,
  "nbformat_minor": 0,
  "metadata": {
    "colab": {
      "provenance": [],
      "authorship_tag": "ABX9TyOIMNHEBDWU0r2SPZhyzWmG",
      "include_colab_link": true
    },
    "kernelspec": {
      "name": "python3",
      "display_name": "Python 3"
    },
    "language_info": {
      "name": "python"
    }
  },
  "cells": [
    {
      "cell_type": "markdown",
      "metadata": {
        "id": "view-in-github",
        "colab_type": "text"
      },
      "source": [
        "<a href=\"https://colab.research.google.com/github/firaahda/Latihan1/blob/firaahda-patch-1/hello_world.ipynb\" target=\"_parent\"><img src=\"https://colab.research.google.com/assets/colab-badge.svg\" alt=\"Open In Colab\"/></a>"
      ]
    },
    {
      "cell_type": "code",
      "execution_count": 1,
      "metadata": {
        "id": "BIxXrLm_j_f2",
        "colab": {
          "base_uri": "https://localhost:8080/"
        },
        "outputId": "0a71e12b-465e-4eca-a01a-762382f2bfcf"
      },
      "outputs": [
        {
          "output_type": "stream",
          "name": "stdout",
          "text": [
            "uryyb jbeyq\n"
          ]
        }
      ],
      "source": [
        "# prompt: print hello world using rot13\n",
        "\n",
        "import codecs\n",
        "\n",
        "def rot13(text):\n",
        "    return codecs.encode(text, 'rot_13')\n",
        "\n",
        "print(rot13(\"hello world\"))\n"
      ]
    }
  ]
}